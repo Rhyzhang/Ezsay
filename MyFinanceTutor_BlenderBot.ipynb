{
  "nbformat": 4,
  "nbformat_minor": 0,
  "metadata": {
    "colab": {
      "name": "MyFinanceTutor BlenderBot",
      "provenance": [],
      "collapsed_sections": [],
      "authorship_tag": "ABX9TyOqLC6ylOUjKDjFdsoWQ7Rg",
      "include_colab_link": true
    },
    "kernelspec": {
      "name": "python3",
      "display_name": "Python 3"
    },
    "language_info": {
      "name": "python"
    }
  },
  "cells": [
    {
      "cell_type": "markdown",
      "metadata": {
        "id": "view-in-github",
        "colab_type": "text"
      },
      "source": [
        "<a href=\"https://colab.research.google.com/github/Rhyzhang/MyFinancialTutor/blob/main/MyFinanceTutor_BlenderBot.ipynb\" target=\"_parent\"><img src=\"https://colab.research.google.com/assets/colab-badge.svg\" alt=\"Open In Colab\"/></a>"
      ]
    },
    {
      "cell_type": "code",
      "execution_count": null,
      "metadata": {
        "id": "W1UzycDS62NL"
      },
      "outputs": [],
      "source": [
        "from transformers import BlenderbotTokenizer, BlenderbotForConditionalGeneration\n",
        "\n",
        "mname = \"facebook/blenderbot-400M-distill\"\n",
        "model = BlenderbotForConditionalGeneration.from_pretrained(mname)\n",
        "tokenizer = BlenderbotTokenizer.from_pretrained(mname)"
      ]
    },
    {
      "cell_type": "code",
      "source": [
        "UTTERANCE = \"Hi Finance AI! Can you tell me a little about finance?\"\n",
        "inputs = tokenizer([UTTERANCE], return_tensors=\"pt\")\n",
        "reply_ids = model.generate(**inputs)\n",
        "\n",
        "print(tokenizer.batch_decode(reply_ids))"
      ],
      "metadata": {
        "id": "0P6q64xK_AJK",
        "outputId": "000fdcb3-d3b7-426d-f8a4-3187bc922a1d",
        "colab": {
          "base_uri": "https://localhost:8080/"
        }
      },
      "execution_count": null,
      "outputs": [
        {
          "output_type": "stream",
          "name": "stderr",
          "text": [
            "/usr/local/lib/python3.7/dist-packages/transformers/generation_utils.py:1207: UserWarning: Neither `max_length` nor `max_new_tokens` have been set, `max_length` will default to 60 (`self.config.max_length`). Controlling `max_length` via the config is deprecated and `max_length` will be removed from the config in v5 of Transformers -- we recommend using `max_new_tokens` to control the maximum length of the generation.\n",
            "  UserWarning,\n"
          ]
        },
        {
          "output_type": "stream",
          "name": "stdout",
          "text": [
            "['<s> Finance is a branch of economics that deals with assets and liabilities.</s>']\n"
          ]
        }
      ]
    }
  ]
}